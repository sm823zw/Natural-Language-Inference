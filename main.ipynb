{
 "metadata": {
  "language_info": {
   "codemirror_mode": {
    "name": "ipython",
    "version": 3
   },
   "file_extension": ".py",
   "mimetype": "text/x-python",
   "name": "python",
   "nbconvert_exporter": "python",
   "pygments_lexer": "ipython3",
   "version": "3.8.8"
  },
  "orig_nbformat": 2,
  "kernelspec": {
   "name": "python388jvsc74a57bd0f8eb42e5489e27d1639c09f8459f37d2bbca2e9654832ca6636f5f200c1be13b",
   "display_name": "Python 3.8.8 64-bit ('MLSPproj': conda)"
  },
  "metadata": {
   "interpreter": {
    "hash": "f8eb42e5489e27d1639c09f8459f37d2bbca2e9654832ca6636f5f200c1be13b"
   }
  }
 },
 "nbformat": 4,
 "nbformat_minor": 2,
 "cells": [
  {
   "cell_type": "code",
   "execution_count": null,
   "metadata": {},
   "outputs": [],
   "source": [
    "import pickle\n",
    "import tempfile\n",
    "import numpy as np\n",
    "import tensorflow as tf\n",
    "from get_data import *\n",
    "from model import create_model\n",
    "import seaborn as sns\n",
    "import pandas as pd\n",
    "import matplotlib.pyplot as plt\n",
    "from sklearn.metrics import confusion_matrix, classification_report"
   ]
  },
  {
   "cell_type": "code",
   "execution_count": null,
   "metadata": {},
   "outputs": [],
   "source": [
    "physical_devices = tf.config.list_physical_devices('GPU') \n",
    "tf.config.experimental.set_memory_growth(physical_devices[0], True)"
   ]
  },
  {
   "cell_type": "code",
   "execution_count": null,
   "metadata": {},
   "outputs": [],
   "source": [
    "MAX_SEQ_LEN = 42\n",
    "EMBEDDING_DIM = 300\n",
    "VOCAB_SIZE = 20000"
   ]
  },
  {
   "cell_type": "code",
   "execution_count": null,
   "metadata": {},
   "outputs": [],
   "source": [
    "data = read_data()\n",
    "train_data = data[:3]\n",
    "test_data = data[3:]"
   ]
  },
  {
   "cell_type": "code",
   "execution_count": null,
   "metadata": {},
   "outputs": [],
   "source": [
    "train_data, embed_matrix = preprocess_traindata(train_data, MAX_SEQ_LEN, EMBEDDING_DIM, VOCAB_SIZE)"
   ]
  },
  {
   "cell_type": "code",
   "execution_count": null,
   "metadata": {},
   "outputs": [],
   "source": [
    "train_data[0].shape"
   ]
  },
  {
   "cell_type": "code",
   "execution_count": null,
   "metadata": {},
   "outputs": [],
   "source": [
    "train_data[1].shape"
   ]
  },
  {
   "cell_type": "code",
   "execution_count": null,
   "metadata": {},
   "outputs": [],
   "source": [
    "train_data[2].shape"
   ]
  },
  {
   "cell_type": "code",
   "execution_count": null,
   "metadata": {},
   "outputs": [],
   "source": [
    "l2 = 0.00001\n",
    "premise = tf.keras.layers.Input(shape=(MAX_SEQ_LEN,), dtype='int32')\n",
    "hypothesis = tf.keras.layers.Input(shape=(MAX_SEQ_LEN,), dtype='int32')\n",
    "prediction = create_model(premise, hypothesis, embed_matrix, l2, EMBEDDING_DIM, MAX_SEQ_LEN)\n",
    "\n",
    "# Define the complete model\n",
    "model = tf.keras.models.Model(inputs=[premise, hypothesis], outputs=prediction)\n",
    "\n",
    "# Choosing an optimizer\n",
    "optimizer = tf.keras.optimizers.RMSprop(lr=0.01)\n",
    "\n",
    "# Compile the model and print out the model summary\n",
    "model.compile(optimizer=optimizer, loss='categorical_crossentropy', metrics=['accuracy'])\n",
    "model.summary()"
   ]
  },
  {
   "cell_type": "code",
   "execution_count": null,
   "metadata": {},
   "outputs": [],
   "source": [
    "learning_rate_reduction = tf.keras.callbacks.ReduceLROnPlateau(monitor='val_loss', patience=3, verbose=1, factor=0.5, min_lr=0.00001)\n",
    "\n",
    "early_stopping = tf.keras.callbacks.EarlyStopping(monitor='val_loss', patience=7)\n",
    "\n",
    "_, tmpfn = tempfile.mkstemp()\n",
    "model_checkpoint = tf.keras.callbacks.ModelCheckpoint(tmpfn, save_best_only=True, save_weights_only=True)\n",
    "\n",
    "callbacks = [model_checkpoint, learning_rate_reduction, early_stopping]"
   ]
  },
  {
   "cell_type": "code",
   "execution_count": null,
   "metadata": {},
   "outputs": [],
   "source": [
    "# Train the model\n",
    "history = model.fit(x=[train_data[0], train_data[1]], y=train_data[2], batch_size=512, epochs=50, validation_split=0.02, callbacks=callbacks)"
   ]
  },
  {
   "cell_type": "code",
   "execution_count": null,
   "metadata": {},
   "outputs": [],
   "source": [
    "plt.plot(history.history['accuracy'])\n",
    "plt.plot(history.history['val_accuracy'])\n",
    "plt.title('model accuracy')\n",
    "plt.ylabel('accuracy')\n",
    "plt.xlabel('epoch')\n",
    "# plt.xticks([i for i in range(25)])\n",
    "plt.legend(['train', 'val'], loc='upper left')\n",
    "# plt.savefig('./figures/model_acc_att_dot_diff_0.00001_0.1_1_100_300D.png')\n",
    "plt.show()"
   ]
  },
  {
   "cell_type": "code",
   "execution_count": null,
   "metadata": {},
   "outputs": [],
   "source": [
    "plt.plot(history.history['loss'])\n",
    "plt.plot(history.history['val_loss'])\n",
    "plt.title('model loss')\n",
    "plt.ylabel('loss')\n",
    "plt.xlabel('epoch')\n",
    "# plt.xticks([i for i in range(25)])\n",
    "plt.legend(['train', 'val'], loc='upper left')\n",
    "# plt.savefig('./figures/model_loss_att_dot_diff_0.00001_0.1_1_100_300D.png')\n",
    "plt.show()"
   ]
  },
  {
   "cell_type": "code",
   "execution_count": null,
   "metadata": {},
   "outputs": [],
   "source": [
    "# model.save('./Trained Models/att_dot_diff_0.00001_0.1_1_100_300D.h5')"
   ]
  },
  {
   "cell_type": "code",
   "execution_count": null,
   "metadata": {},
   "outputs": [],
   "source": [
    "test_data = data[3:]\n",
    "test_data = preprocess_testdata(test_data, MAX_SEQ_LEN)"
   ]
  },
  {
   "cell_type": "code",
   "execution_count": null,
   "metadata": {},
   "outputs": [],
   "source": [
    "# try:\n",
    "#     model = tf.keras.models.load_model('./Trained Models/baseline_0.00001_0.1_1_100_300D.h5')\n",
    "# except:\n",
    "#     print(\"Trained model does not exist. Please train the model.\\n\")\n",
    "#     exit(0)"
   ]
  },
  {
   "cell_type": "code",
   "execution_count": null,
   "metadata": {},
   "outputs": [],
   "source": [
    "loss, accuracy = model.evaluate(x=[test_data[0], test_data[1]], y=test_data[2], batch_size=256)\n",
    "print(\"Test Loss: {:.2f}, Test Accuracy: {:.2f}%\\n\".format(loss, (accuracy*100)))"
   ]
  },
  {
   "cell_type": "code",
   "execution_count": null,
   "metadata": {},
   "outputs": [],
   "source": [
    "Y_pred = model.predict([test_data[0], test_data[1]])\n",
    "Y_pred = np.argmax(Y_pred, axis=1)\n",
    "Y_test = np.argmax(test_data[2], axis=1)"
   ]
  },
  {
   "cell_type": "code",
   "execution_count": null,
   "metadata": {},
   "outputs": [],
   "source": [
    "Y_test"
   ]
  },
  {
   "cell_type": "code",
   "execution_count": null,
   "metadata": {},
   "outputs": [],
   "source": [
    "Y_pred"
   ]
  },
  {
   "cell_type": "code",
   "execution_count": null,
   "metadata": {},
   "outputs": [],
   "source": [
    "plt.figure(figsize=(8, 6))\n",
    "ticks = ['Contradiction', 'Neutral', 'Entailment']\n",
    "sns.heatmap(confusion_matrix(Y_test, Y_pred), annot=True, fmt='g', xticklabels=ticks, yticklabels=ticks)\n",
    "plt.xlabel(\"True labels\")\n",
    "plt.ylabel(\"Predicted labels\")\n",
    "# plt.savefig('./figures/model_conf_att_dot_diff_0.00001_0.1_1_100_300D.png')"
   ]
  },
  {
   "cell_type": "code",
   "execution_count": null,
   "metadata": {},
   "outputs": [],
   "source": [
    "plt.figure(figsize=(8, 6))\n",
    "report = classification_report(Y_test, Y_pred, output_dict=True, target_names=ticks)\n",
    "sns.heatmap(pd.DataFrame(report).iloc[:-1, :3].T, annot=True)\n",
    "# plt.savefig('./figures/model_metrics_att_dot_diff_0.00001_0.1_1_100_300D.png')"
   ]
  },
  {
   "cell_type": "code",
   "execution_count": null,
   "metadata": {},
   "outputs": [],
   "source": []
  }
 ]
}